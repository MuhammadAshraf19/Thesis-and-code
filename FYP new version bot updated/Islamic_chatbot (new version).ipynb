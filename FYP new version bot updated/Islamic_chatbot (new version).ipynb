{
  "nbformat": 4,
  "nbformat_minor": 0,
  "metadata": {
    "colab": {
      "provenance": []
    },
    "kernelspec": {
      "name": "python3",
      "display_name": "Python 3"
    }
  },
  "cells": [
    {
      "cell_type": "markdown",
      "metadata": {
        "id": "view-in-github"
      },
      "source": [
        "<a href=\"https://colab.research.google.com/github/EmanElrefai/Islamic-chatbot/blob/master/Islamic_chatbot.ipynb\" target=\"_parent\"><img src=\"https://colab.research.google.com/assets/colab-badge.svg\" alt=\"Open In Colab\"/></a>"
      ]
    },
    {
      "cell_type": "markdown",
      "metadata": {
        "id": "mO9nfZgfazYN"
      },
      "source": [
        "# *Utilization*"
      ]
    },
    {
      "cell_type": "code",
      "metadata": {
        "id": "eNbRkiGMawfS",
        "outputId": "51729cbb-1fdc-464a-a987-a09a43fad1b2",
        "colab": {
          "base_uri": "https://localhost:8080/"
        }
      },
      "source": [
        "import nltk\n",
        "from nltk.stem import WordNetLemmatizer\n",
        "lemmatizer = WordNetLemmatizer()\n",
        "nltk.download(\"punkt\")\n",
        "import json\n",
        "import pickle\n",
        "import tensorflow as tf\n",
        "\n",
        "import numpy as np\n",
        "import random\n",
        "from keras.models import Sequential\n",
        "from keras.layers import Activation,Dropout,Dense\n",
        "from keras.models import load_model\n",
        "\n",
        "#chatbot gui\n",
        "from termcolor import colored\n",
        "\n",
        "\n"
      ],
      "execution_count": 10,
      "outputs": [
        {
          "output_type": "stream",
          "name": "stderr",
          "text": [
            "[nltk_data] Downloading package punkt to /root/nltk_data...\n",
            "[nltk_data]   Package punkt is already up-to-date!\n"
          ]
        }
      ]
    },
    {
      "cell_type": "code",
      "metadata": {
        "id": "zw7bA2RUkYTM",
        "outputId": "3693b477-fc5d-4c0f-e152-829f98fbad49",
        "colab": {
          "base_uri": "https://localhost:8080/"
        }
      },
      "source": [
        "ls"
      ],
      "execution_count": 11,
      "outputs": [
        {
          "output_type": "stream",
          "name": "stdout",
          "text": [
            "classes.pkl  intents.json  \u001b[0m\u001b[01;34msample_data\u001b[0m/  words.pkl\n"
          ]
        }
      ]
    },
    {
      "cell_type": "markdown",
      "metadata": {
        "id": "oL0iXy9ibp9N"
      },
      "source": [
        "# Process data"
      ]
    },
    {
      "cell_type": "code",
      "metadata": {
        "id": "EJCE64FhbcP7"
      },
      "source": [
        "words=[]\n",
        "documents=[]\n",
        "classes=[]\n",
        "ignore_words=['?','!','.','“', '”','(', ')', ',','’']\n",
        "\n",
        "data_file = open('intents.json',)\n",
        "intents=json.load(data_file)\n"
      ],
      "execution_count": 12,
      "outputs": []
    },
    {
      "cell_type": "code",
      "metadata": {
        "id": "Sj1xBCcDkEW9",
        "outputId": "9bc5c6cd-f07a-44f1-c450-9afaf882766b",
        "colab": {
          "base_uri": "https://localhost:8080/"
        }
      },
      "source": [
        "nltk.download('wordnet')\n",
        "\n",
        "for intent in intents['intents']:\n",
        "  for pattern in intent['patterns']:\n",
        "    w=nltk.word_tokenize(pattern)\n",
        "    words.extend(w)\n",
        "\n",
        "    documents.append((w,intent['tag']))\n",
        "    # add to our classes list\n",
        "    if intent['tag'] not in classes:\n",
        "      classes.append(intent['tag'])\n",
        "\n",
        "#lemizer and lower each word and remove duplicates\n",
        "words=[lemmatizer.lemmatize(w.lower()) for w in words if w not in ignore_words]\n",
        "words=sorted(list(set(words)))\n",
        "\n",
        "#sort classes\n",
        "classes=sorted(list(set(classes)))\n",
        "\n",
        "#decuments= pattern , intents\n",
        "print(len(documents),\"documents\")\n",
        "#classes= intents\n",
        "print(len(classes),\"classes\",classes)\n",
        "#words = each words , vocabulary\n",
        "print(len(words),\"unique lemmatized words\",words)\n",
        "\n",
        "pickle.dump(words,open('words.pkl','wb'))\n",
        "pickle.dump(classes,open('classes.pkl','wb'))\n",
        "\n",
        "\n"
      ],
      "execution_count": 13,
      "outputs": [
        {
          "output_type": "stream",
          "name": "stdout",
          "text": [
            "194 documents\n",
            "108 classes ['', 'NGOs', 'agricultural financing', 'automatic deduction of zakat', 'bankruptcy or dafult', 'bill', 'blockchain', 'bonds', 'challanges', 'challenges', 'charitable activities or charity', 'close account', 'contracts', 'credit cards or debit cards', 'customer disputes', 'cybersecurity', 'dafault account', 'data privacy', 'debt recovery', 'default assets', 'deposit', 'deposits', 'difference between bonds', 'difference islamic banking', 'disable', 'economic development', 'education and health loan', 'education sector', 'endowment', 'ethical guidelines', 'financial instruments', 'foreign currency', 'foreign exchange trading', 'fraud', 'freelancers', 'goals', 'goodbye', 'governed', 'greeting', 'guidelines for investing', 'hajj and umrah', 'haram', 'hawala', 'healthcare industry', 'infrastructure financing', 'inheritance', 'insider trading', 'insurance', 'insurance difference', 'intellectual', 'interest', 'interest free transaction', 'international transactions', 'international travel', 'invest in gambiling', 'invest in non-shariah ', 'invest in technology', 'islam banking', 'islamic financial centres', 'joint accounts', 'late payment', 'leasing', 'loan', 'loan difference', 'loan for goods and vehicles', 'loan for start-up', 'loans for housing', 'make profit', 'microfinance institutions', 'minimum deposit', 'modern services', 'money laundering', 'noanswer', 'non resident', 'online banking', 'online payment service', 'online shopping', 'open account', 'options', 'penalties', 'poverty', 'principle', 'profit', 'profit distribution', 'profit on investment', 'prohibited activities', 'real estate', 'redcing tax', 'relief', 'rewards', 'risk managment', 'risks', 'role', 'senior citizens or retirees', 'shariah principles', 'short-selling', 'social justice and equality', 'sources', 'stock market', 'tansfering funds', 'tax', 'thanks', 'trade finance', 'transfer of account', 'update', 'withdraw', 'zakat', 'zakat calculation']\n",
            "344 unique lemmatized words [\"'s\", 'a', 'account', 'activites', 'activity', 'agricultural', 'alleviation', 'allowed', 'an', 'and', 'another', 'any', 'anyone', 'anytime', 'are', 'asset', 'associated', 'at', 'automatic', 'automatically', 'available', 'awesome', 'babk', 'balance', 'bank', 'bankimg', 'banking', 'bankruptcy', 'basic', 'be', 'benefit', 'between', 'bill', 'blockchain', 'bond', 'branch', 'business', 'by', 'bye', 'calculate', 'calculated', 'can', 'card', 'center', 'challanges', 'challenge', 'charge', 'charitable', 'chatting', 'citizen', 'close', 'closure', 'company', 'compliant', 'comply', 'concept', 'condition', 'consumer', 'contract', 'conventional', 'could', 'created', 'credit', 'currency', 'customer', 'cybersecurity', 'data', 'day', 'deal', 'death', 'debit', 'debt', 'deducted', 'default', 'defaulted', 'deoes', 'deposit', 'depositor', 'determine', 'development', 'differ', 'difference', 'different', 'disability', 'disable', 'disaster', 'dispute', 'distribute', 'distributed', 'distribution', 'do', 'documented', 'doe', 'e-commerce', 'economic', 'education', 'endowment', 'engage', 'ensure', 'entitled', 'equality', 'estate', 'ethical', 'event', 'exchange', 'expansion', 'expense', 'explain', 'face', 'faced', 'facility', 'facilties', 'fee', 'finance', 'financial', 'financing', 'followed', 'for', 'foreign', 'form', 'fraud', 'free', 'freelancer', 'from', 'fund', 'gambiling', 'gambling', 'gharar', 'give', 'global', 'goal', 'good', 'goodbye', 'governed', 'guideline', 'hajj', 'halal', 'handle', 'handled', 'happens', 'haram', 'have', 'hawala', 'healthcare', 'hello', 'help', 'helpful', 'helping', 'hey', 'hi', 'hola', 'holder', 'housing', 'how', 'humanitarian', 'if', 'ijarah', 'in', 'individual', 'industry', 'infrastructure', 'inheritance', 'inheritance-related', 'insider', 'institution', 'instrument', 'insurance', 'intellectual', 'interest', 'interest-based', 'interest-free', 'internation', 'international', 'invest', 'investing', 'investment', 'involved', 'is', 'islam', 'islamic', 'ismalic', 'issue', 'it', 'joint', 'joit', 'justice', 'key', 'late', 'later', 'laundering', 'law', 'leasing', 'ledger', 'licensing', 'liquidity', 'loan', 'maintaining', 'major', 'make', 'manage', 'managed', 'market', 'matter', 'me', 'microfinance', 'minimum', 'modern', 'money', 'mortgage', 'much', 'need', 'needed', 'next', 'ngo', 'nice', 'non', 'non-performing', 'non-resident', 'non-shariah', 'nonprofit', 'not', 'objective', 'obligation', 'of', 'offer', 'offered', 'on', 'one', 'online', 'opeening', 'open', 'operation', 'option', 'or', 'organization', 'other', 'participate', 'pay', 'payment', 'penalty', 'people', 'percent', 'permissible', 'poverty', 'principle', 'privacy', 'problem', 'procedure', 'product', 'profit', 'prohibited', 'promoting', 'property', 'protected', 'provide', 'real', 'receive', 'recorded', 'recovery', 'reduced', 'reducing', 'regulated', 'relate', 'releif', 'relief', 'requirement', 'requirments', 'resident', 'restriction', 'restructuring', 'retiree', 'reward', 'right', 'risk', 'role', 'safe', 'save', 'sector', 'see', 'self-employed', 'senior', 'service', 'set', 'sharaih', 'shariah', 'shopping', 'short-selling', 'so', 'social', 'source', 'special', 'specific', 'speculative', 'start-up', 'statement', 'stock', 'structured', 'sukuk', 'support', 'supporting', 'system', 'takaful', 'take', 'taking', 'tansaction', 'tax', 'technology', 'term', 'thank', 'thanks', 'that', 'the', 'their', 'there', 'they', 'till', 'time', 'to', 'trade', 'trading', 'transaction', 'transfer', 'transfered', 'travel', 'two', 'type', 'umrah', 'uncertainty', 'underlying', 'up', 'update', 'use', 'used', 'vehicle', 'waqf', 'we', 'what', 'with', 'withdraw', 'without', 'work', 'world', 'you', 'zakat']\n"
          ]
        },
        {
          "output_type": "stream",
          "name": "stderr",
          "text": [
            "[nltk_data] Downloading package wordnet to /root/nltk_data...\n",
            "[nltk_data]   Package wordnet is already up-to-date!\n"
          ]
        }
      ]
    },
    {
      "cell_type": "markdown",
      "metadata": {
        "id": "Ggb10xLjtgS_"
      },
      "source": [
        "# Training data"
      ]
    },
    {
      "cell_type": "code",
      "metadata": {
        "id": "hGYN7C-stemD",
        "outputId": "619fefb3-56d0-4cd0-9ea7-1ca6e59964a9",
        "colab": {
          "base_uri": "https://localhost:8080/"
        }
      },
      "source": [
        "\n",
        "#create training data\n",
        "training=[]\n",
        "\n",
        "#create output  empty array\n",
        "output_=[0]*len(classes)\n",
        "\n",
        "\n",
        "#bag of words algorithm\n",
        "for doc in documents:\n",
        "    #intialize bag for each word\n",
        "    bag=[]\n",
        "\n",
        "    pattern_word=doc[0]\n",
        "\n",
        "    #lemmatize and lower each word in pattern_word\n",
        "    pattern_word=[lemmatizer.lemmatize(word.lower()) for word in pattern_word]\n",
        "\n",
        "    for w in words:\n",
        "      bag.append(1) if w in pattern_word else bag.append(0)\n",
        "\n",
        "    #output\n",
        "    output_row=list(output_)\n",
        "    output_row[classes.index(doc[1])]=1\n",
        "\n",
        "    training.append([bag,output_row])\n",
        "\n",
        "#shuffel features and turn into array\n",
        "random.shuffle(training)\n",
        "training=np.array(training)\n",
        "\n",
        "#train_x is input and train_y is output\n",
        "train_x=list(training[:,0])\n",
        "train_y=list(training[:,1])\n",
        "\n",
        "print('training data created')\n",
        "\n"
      ],
      "execution_count": 14,
      "outputs": [
        {
          "output_type": "stream",
          "name": "stdout",
          "text": [
            "training data created\n"
          ]
        },
        {
          "output_type": "stream",
          "name": "stderr",
          "text": [
            "<ipython-input-14-7fb4f731552e>:29: VisibleDeprecationWarning: Creating an ndarray from ragged nested sequences (which is a list-or-tuple of lists-or-tuples-or ndarrays with different lengths or shapes) is deprecated. If you meant to do this, you must specify 'dtype=object' when creating the ndarray.\n",
            "  training=np.array(training)\n"
          ]
        }
      ]
    },
    {
      "cell_type": "code",
      "metadata": {
        "id": "4QeRVC_Iny0y",
        "outputId": "8f642e57-f562-4e6f-c251-3361f1b8d7ce",
        "colab": {
          "base_uri": "https://localhost:8080/"
        }
      },
      "source": [
        "#building sequential model with 3 layers\n",
        "\n",
        "model=Sequential()\n",
        "#first layer with 128 neurons\n",
        "model.add(Dense(128,input_shape=(len(train_x[0]),),activation='relu'))\n",
        "model.add(Dropout(0.5))\n",
        "#second layer with 64 neurons\n",
        "model.add(Dense(64,activation='relu'))\n",
        "model.add(Dropout(0.5))\n",
        "#output layer\n",
        "model.add(Dense(len(train_y[0]),activation='softmax'))\n",
        "\n",
        "# stochastic gradient decsent\n",
        "sgd=tf.keras.optimizers.legacy.SGD(learning_rate=0.01,decay=1e-6,momentum=0.9,nesterov=True)\n",
        "#compiling model\n",
        "model.compile(loss='categorical_crossentropy',optimizer=sgd,metrics=['accuracy'])\n",
        "\n",
        "#fitting model\n",
        "hist=model.fit(np.array(train_x),np.array(train_y),epochs=200,batch_size=5,verbose=1,validation_split=0.2)\n",
        "#saving model\n",
        "model.save('chatbot_model.h5',hist)\n",
        "\n",
        "print('model created')\n",
        "\n",
        "\n"
      ],
      "execution_count": 15,
      "outputs": [
        {
          "output_type": "stream",
          "name": "stdout",
          "text": [
            "Epoch 1/200\n",
            "31/31 [==============================] - 1s 11ms/step - loss: 4.6999 - accuracy: 0.0129 - val_loss: 4.6880 - val_accuracy: 0.0000e+00\n",
            "Epoch 2/200\n",
            "31/31 [==============================] - 0s 4ms/step - loss: 4.6426 - accuracy: 0.0258 - val_loss: 4.6993 - val_accuracy: 0.0000e+00\n",
            "Epoch 3/200\n",
            "31/31 [==============================] - 0s 4ms/step - loss: 4.5775 - accuracy: 0.0774 - val_loss: 4.7173 - val_accuracy: 0.0000e+00\n",
            "Epoch 4/200\n",
            "31/31 [==============================] - 0s 3ms/step - loss: 4.5535 - accuracy: 0.0581 - val_loss: 4.7249 - val_accuracy: 0.0000e+00\n",
            "Epoch 5/200\n",
            "31/31 [==============================] - 0s 3ms/step - loss: 4.4750 - accuracy: 0.0516 - val_loss: 4.7267 - val_accuracy: 0.0000e+00\n",
            "Epoch 6/200\n",
            "31/31 [==============================] - 0s 3ms/step - loss: 4.4333 - accuracy: 0.0710 - val_loss: 4.7239 - val_accuracy: 0.0000e+00\n",
            "Epoch 7/200\n",
            "31/31 [==============================] - 0s 3ms/step - loss: 4.3723 - accuracy: 0.0774 - val_loss: 4.6992 - val_accuracy: 0.0000e+00\n",
            "Epoch 8/200\n",
            "31/31 [==============================] - 0s 3ms/step - loss: 4.2359 - accuracy: 0.1032 - val_loss: 4.7287 - val_accuracy: 0.0000e+00\n",
            "Epoch 9/200\n",
            "31/31 [==============================] - 0s 4ms/step - loss: 4.1028 - accuracy: 0.1097 - val_loss: 4.7230 - val_accuracy: 0.0513\n",
            "Epoch 10/200\n",
            "31/31 [==============================] - 0s 4ms/step - loss: 4.0001 - accuracy: 0.1226 - val_loss: 4.6944 - val_accuracy: 0.0256\n",
            "Epoch 11/200\n",
            "31/31 [==============================] - 0s 3ms/step - loss: 3.8948 - accuracy: 0.1290 - val_loss: 4.6722 - val_accuracy: 0.0256\n",
            "Epoch 12/200\n",
            "31/31 [==============================] - 0s 3ms/step - loss: 3.6822 - accuracy: 0.1677 - val_loss: 4.6047 - val_accuracy: 0.1026\n",
            "Epoch 13/200\n",
            "31/31 [==============================] - 0s 3ms/step - loss: 3.5603 - accuracy: 0.2000 - val_loss: 4.5047 - val_accuracy: 0.0769\n",
            "Epoch 14/200\n",
            "31/31 [==============================] - 0s 4ms/step - loss: 3.3135 - accuracy: 0.2065 - val_loss: 4.5332 - val_accuracy: 0.0513\n",
            "Epoch 15/200\n",
            "31/31 [==============================] - 0s 3ms/step - loss: 3.3515 - accuracy: 0.1871 - val_loss: 4.5050 - val_accuracy: 0.0513\n",
            "Epoch 16/200\n",
            "31/31 [==============================] - 0s 4ms/step - loss: 3.0664 - accuracy: 0.2710 - val_loss: 4.5717 - val_accuracy: 0.0513\n",
            "Epoch 17/200\n",
            "31/31 [==============================] - 0s 4ms/step - loss: 3.0907 - accuracy: 0.2323 - val_loss: 4.5054 - val_accuracy: 0.0769\n",
            "Epoch 18/200\n",
            "31/31 [==============================] - 0s 3ms/step - loss: 2.9382 - accuracy: 0.2323 - val_loss: 4.4685 - val_accuracy: 0.1026\n",
            "Epoch 19/200\n",
            "31/31 [==============================] - 0s 3ms/step - loss: 2.8235 - accuracy: 0.3290 - val_loss: 4.4375 - val_accuracy: 0.1282\n",
            "Epoch 20/200\n",
            "31/31 [==============================] - 0s 3ms/step - loss: 2.6430 - accuracy: 0.3161 - val_loss: 4.4163 - val_accuracy: 0.1026\n",
            "Epoch 21/200\n",
            "31/31 [==============================] - 0s 3ms/step - loss: 2.6833 - accuracy: 0.2645 - val_loss: 4.3642 - val_accuracy: 0.0769\n",
            "Epoch 22/200\n",
            "31/31 [==============================] - 0s 3ms/step - loss: 2.5106 - accuracy: 0.3097 - val_loss: 4.3398 - val_accuracy: 0.1026\n",
            "Epoch 23/200\n",
            "31/31 [==============================] - 0s 4ms/step - loss: 2.4980 - accuracy: 0.3226 - val_loss: 4.3183 - val_accuracy: 0.1026\n",
            "Epoch 24/200\n",
            "31/31 [==============================] - 0s 3ms/step - loss: 2.3120 - accuracy: 0.3677 - val_loss: 4.3255 - val_accuracy: 0.1026\n",
            "Epoch 25/200\n",
            "31/31 [==============================] - 0s 3ms/step - loss: 2.2100 - accuracy: 0.4000 - val_loss: 4.4922 - val_accuracy: 0.0769\n",
            "Epoch 26/200\n",
            "31/31 [==============================] - 0s 3ms/step - loss: 2.2874 - accuracy: 0.4000 - val_loss: 4.3975 - val_accuracy: 0.1538\n",
            "Epoch 27/200\n",
            "31/31 [==============================] - 0s 4ms/step - loss: 2.2093 - accuracy: 0.3871 - val_loss: 4.3949 - val_accuracy: 0.0769\n",
            "Epoch 28/200\n",
            "31/31 [==============================] - 0s 3ms/step - loss: 1.9468 - accuracy: 0.4710 - val_loss: 4.5256 - val_accuracy: 0.1282\n",
            "Epoch 29/200\n",
            "31/31 [==============================] - 0s 3ms/step - loss: 1.8621 - accuracy: 0.5097 - val_loss: 4.4111 - val_accuracy: 0.1026\n",
            "Epoch 30/200\n",
            "31/31 [==============================] - 0s 3ms/step - loss: 1.9441 - accuracy: 0.4387 - val_loss: 4.3170 - val_accuracy: 0.1026\n",
            "Epoch 31/200\n",
            "31/31 [==============================] - 0s 3ms/step - loss: 1.8812 - accuracy: 0.4323 - val_loss: 4.5061 - val_accuracy: 0.1282\n",
            "Epoch 32/200\n",
            "31/31 [==============================] - 0s 3ms/step - loss: 1.9029 - accuracy: 0.4581 - val_loss: 4.3790 - val_accuracy: 0.2051\n",
            "Epoch 33/200\n",
            "31/31 [==============================] - 0s 4ms/step - loss: 1.7142 - accuracy: 0.5032 - val_loss: 4.2946 - val_accuracy: 0.2308\n",
            "Epoch 34/200\n",
            "31/31 [==============================] - 0s 3ms/step - loss: 1.9102 - accuracy: 0.4516 - val_loss: 4.3429 - val_accuracy: 0.1282\n",
            "Epoch 35/200\n",
            "31/31 [==============================] - 0s 3ms/step - loss: 1.5523 - accuracy: 0.5548 - val_loss: 4.5016 - val_accuracy: 0.1795\n",
            "Epoch 36/200\n",
            "31/31 [==============================] - 0s 4ms/step - loss: 1.6586 - accuracy: 0.5097 - val_loss: 4.4854 - val_accuracy: 0.1538\n",
            "Epoch 37/200\n",
            "31/31 [==============================] - 0s 3ms/step - loss: 1.8081 - accuracy: 0.4452 - val_loss: 4.3134 - val_accuracy: 0.1282\n",
            "Epoch 38/200\n",
            "31/31 [==============================] - 0s 4ms/step - loss: 1.6254 - accuracy: 0.5419 - val_loss: 4.4112 - val_accuracy: 0.1026\n",
            "Epoch 39/200\n",
            "31/31 [==============================] - 0s 3ms/step - loss: 1.6605 - accuracy: 0.4968 - val_loss: 4.4437 - val_accuracy: 0.2051\n",
            "Epoch 40/200\n",
            "31/31 [==============================] - 0s 3ms/step - loss: 1.5896 - accuracy: 0.5484 - val_loss: 4.3699 - val_accuracy: 0.1538\n",
            "Epoch 41/200\n",
            "31/31 [==============================] - 0s 3ms/step - loss: 1.6070 - accuracy: 0.5419 - val_loss: 4.3040 - val_accuracy: 0.1026\n",
            "Epoch 42/200\n",
            "31/31 [==============================] - 0s 4ms/step - loss: 1.3739 - accuracy: 0.6000 - val_loss: 4.3660 - val_accuracy: 0.1795\n",
            "Epoch 43/200\n",
            "31/31 [==============================] - 0s 4ms/step - loss: 1.4077 - accuracy: 0.6323 - val_loss: 4.3131 - val_accuracy: 0.1795\n",
            "Epoch 44/200\n",
            "31/31 [==============================] - 0s 3ms/step - loss: 1.3858 - accuracy: 0.5677 - val_loss: 4.4050 - val_accuracy: 0.1795\n",
            "Epoch 45/200\n",
            "31/31 [==============================] - 0s 3ms/step - loss: 1.4473 - accuracy: 0.5613 - val_loss: 4.3967 - val_accuracy: 0.2051\n",
            "Epoch 46/200\n",
            "31/31 [==============================] - 0s 3ms/step - loss: 1.2635 - accuracy: 0.5935 - val_loss: 4.4119 - val_accuracy: 0.2051\n",
            "Epoch 47/200\n",
            "31/31 [==============================] - 0s 3ms/step - loss: 1.2799 - accuracy: 0.6194 - val_loss: 4.4677 - val_accuracy: 0.1795\n",
            "Epoch 48/200\n",
            "31/31 [==============================] - 0s 3ms/step - loss: 1.3579 - accuracy: 0.6258 - val_loss: 4.4870 - val_accuracy: 0.1538\n",
            "Epoch 49/200\n",
            "31/31 [==============================] - 0s 3ms/step - loss: 1.2552 - accuracy: 0.6258 - val_loss: 4.5796 - val_accuracy: 0.1282\n",
            "Epoch 50/200\n",
            "31/31 [==============================] - 0s 3ms/step - loss: 1.2959 - accuracy: 0.6000 - val_loss: 4.5375 - val_accuracy: 0.1538\n",
            "Epoch 51/200\n",
            "31/31 [==============================] - 0s 4ms/step - loss: 1.3977 - accuracy: 0.5806 - val_loss: 4.4518 - val_accuracy: 0.1282\n",
            "Epoch 52/200\n",
            "31/31 [==============================] - 0s 3ms/step - loss: 1.3869 - accuracy: 0.5935 - val_loss: 4.3926 - val_accuracy: 0.1538\n",
            "Epoch 53/200\n",
            "31/31 [==============================] - 0s 3ms/step - loss: 1.3555 - accuracy: 0.5806 - val_loss: 4.3360 - val_accuracy: 0.2051\n",
            "Epoch 54/200\n",
            "31/31 [==============================] - 0s 3ms/step - loss: 1.2986 - accuracy: 0.6065 - val_loss: 4.4955 - val_accuracy: 0.1282\n",
            "Epoch 55/200\n",
            "31/31 [==============================] - 0s 3ms/step - loss: 1.2110 - accuracy: 0.6839 - val_loss: 4.5822 - val_accuracy: 0.1795\n",
            "Epoch 56/200\n",
            "31/31 [==============================] - 0s 3ms/step - loss: 1.1370 - accuracy: 0.6774 - val_loss: 4.6377 - val_accuracy: 0.1795\n",
            "Epoch 57/200\n",
            "31/31 [==============================] - 0s 3ms/step - loss: 1.2155 - accuracy: 0.6258 - val_loss: 4.5686 - val_accuracy: 0.2308\n",
            "Epoch 58/200\n",
            "31/31 [==============================] - 0s 4ms/step - loss: 1.2469 - accuracy: 0.6129 - val_loss: 4.4600 - val_accuracy: 0.2308\n",
            "Epoch 59/200\n",
            "31/31 [==============================] - 0s 3ms/step - loss: 1.0415 - accuracy: 0.7097 - val_loss: 4.5645 - val_accuracy: 0.2051\n",
            "Epoch 60/200\n",
            "31/31 [==============================] - 0s 4ms/step - loss: 1.0798 - accuracy: 0.6774 - val_loss: 4.6200 - val_accuracy: 0.1538\n",
            "Epoch 61/200\n",
            "31/31 [==============================] - 0s 3ms/step - loss: 1.0744 - accuracy: 0.6645 - val_loss: 4.5392 - val_accuracy: 0.1282\n",
            "Epoch 62/200\n",
            "31/31 [==============================] - 0s 3ms/step - loss: 1.0527 - accuracy: 0.6710 - val_loss: 4.5875 - val_accuracy: 0.2051\n",
            "Epoch 63/200\n",
            "31/31 [==============================] - 0s 3ms/step - loss: 0.9463 - accuracy: 0.7161 - val_loss: 4.5609 - val_accuracy: 0.2051\n",
            "Epoch 64/200\n",
            "31/31 [==============================] - 0s 3ms/step - loss: 1.1125 - accuracy: 0.6710 - val_loss: 4.6896 - val_accuracy: 0.1795\n",
            "Epoch 65/200\n",
            "31/31 [==============================] - 0s 3ms/step - loss: 1.1554 - accuracy: 0.6645 - val_loss: 4.5832 - val_accuracy: 0.1282\n",
            "Epoch 66/200\n",
            "31/31 [==============================] - 0s 3ms/step - loss: 0.9310 - accuracy: 0.7097 - val_loss: 4.5426 - val_accuracy: 0.1795\n",
            "Epoch 67/200\n",
            "31/31 [==============================] - 0s 3ms/step - loss: 1.1194 - accuracy: 0.6839 - val_loss: 4.6158 - val_accuracy: 0.1538\n",
            "Epoch 68/200\n",
            "31/31 [==============================] - 0s 3ms/step - loss: 0.9845 - accuracy: 0.6516 - val_loss: 4.6136 - val_accuracy: 0.2051\n",
            "Epoch 69/200\n",
            "31/31 [==============================] - 0s 3ms/step - loss: 0.9977 - accuracy: 0.6387 - val_loss: 4.6893 - val_accuracy: 0.1538\n",
            "Epoch 70/200\n",
            "31/31 [==============================] - 0s 3ms/step - loss: 0.9914 - accuracy: 0.6968 - val_loss: 4.7293 - val_accuracy: 0.1538\n",
            "Epoch 71/200\n",
            "31/31 [==============================] - 0s 3ms/step - loss: 1.0417 - accuracy: 0.7097 - val_loss: 4.8198 - val_accuracy: 0.1795\n",
            "Epoch 72/200\n",
            "31/31 [==============================] - 0s 3ms/step - loss: 0.8486 - accuracy: 0.7290 - val_loss: 4.9642 - val_accuracy: 0.1538\n",
            "Epoch 73/200\n",
            "31/31 [==============================] - 0s 3ms/step - loss: 0.9324 - accuracy: 0.6710 - val_loss: 4.8923 - val_accuracy: 0.1795\n",
            "Epoch 74/200\n",
            "31/31 [==============================] - 0s 4ms/step - loss: 0.8008 - accuracy: 0.7290 - val_loss: 4.5670 - val_accuracy: 0.2308\n",
            "Epoch 75/200\n",
            "31/31 [==============================] - 0s 4ms/step - loss: 1.0688 - accuracy: 0.6645 - val_loss: 4.5588 - val_accuracy: 0.1795\n",
            "Epoch 76/200\n",
            "31/31 [==============================] - 0s 3ms/step - loss: 1.0113 - accuracy: 0.7097 - val_loss: 4.4889 - val_accuracy: 0.1538\n",
            "Epoch 77/200\n",
            "31/31 [==============================] - 0s 3ms/step - loss: 1.0435 - accuracy: 0.6710 - val_loss: 4.3083 - val_accuracy: 0.2564\n",
            "Epoch 78/200\n",
            "31/31 [==============================] - 0s 3ms/step - loss: 0.9248 - accuracy: 0.7097 - val_loss: 4.5469 - val_accuracy: 0.2821\n",
            "Epoch 79/200\n",
            "31/31 [==============================] - 0s 3ms/step - loss: 0.9583 - accuracy: 0.7290 - val_loss: 4.5738 - val_accuracy: 0.2564\n",
            "Epoch 80/200\n",
            "31/31 [==============================] - 0s 4ms/step - loss: 0.8443 - accuracy: 0.7226 - val_loss: 4.6583 - val_accuracy: 0.2308\n",
            "Epoch 81/200\n",
            "31/31 [==============================] - 0s 3ms/step - loss: 0.8416 - accuracy: 0.7290 - val_loss: 4.7274 - val_accuracy: 0.3077\n",
            "Epoch 82/200\n",
            "31/31 [==============================] - 0s 3ms/step - loss: 0.7902 - accuracy: 0.7871 - val_loss: 4.9526 - val_accuracy: 0.1795\n",
            "Epoch 83/200\n",
            "31/31 [==============================] - 0s 3ms/step - loss: 0.9925 - accuracy: 0.7097 - val_loss: 4.7989 - val_accuracy: 0.2308\n",
            "Epoch 84/200\n",
            "31/31 [==============================] - 0s 3ms/step - loss: 0.9879 - accuracy: 0.7161 - val_loss: 4.7809 - val_accuracy: 0.1795\n",
            "Epoch 85/200\n",
            "31/31 [==============================] - 0s 4ms/step - loss: 1.0337 - accuracy: 0.6645 - val_loss: 4.9512 - val_accuracy: 0.1282\n",
            "Epoch 86/200\n",
            "31/31 [==============================] - 0s 5ms/step - loss: 0.8987 - accuracy: 0.7097 - val_loss: 4.7264 - val_accuracy: 0.2564\n",
            "Epoch 87/200\n",
            "31/31 [==============================] - 0s 5ms/step - loss: 0.8156 - accuracy: 0.7419 - val_loss: 4.9138 - val_accuracy: 0.1795\n",
            "Epoch 88/200\n",
            "31/31 [==============================] - 0s 4ms/step - loss: 0.8556 - accuracy: 0.7613 - val_loss: 5.0127 - val_accuracy: 0.1538\n",
            "Epoch 89/200\n",
            "31/31 [==============================] - 0s 5ms/step - loss: 0.9634 - accuracy: 0.7161 - val_loss: 4.8975 - val_accuracy: 0.2051\n",
            "Epoch 90/200\n",
            "31/31 [==============================] - 0s 5ms/step - loss: 0.8615 - accuracy: 0.7355 - val_loss: 4.7945 - val_accuracy: 0.2564\n",
            "Epoch 91/200\n",
            "31/31 [==============================] - 0s 4ms/step - loss: 0.7301 - accuracy: 0.7871 - val_loss: 5.1086 - val_accuracy: 0.2308\n",
            "Epoch 92/200\n",
            "31/31 [==============================] - 0s 4ms/step - loss: 0.7345 - accuracy: 0.7806 - val_loss: 5.1650 - val_accuracy: 0.2308\n",
            "Epoch 93/200\n",
            "31/31 [==============================] - 0s 4ms/step - loss: 0.9849 - accuracy: 0.6710 - val_loss: 5.0412 - val_accuracy: 0.2564\n",
            "Epoch 94/200\n",
            "31/31 [==============================] - 0s 6ms/step - loss: 0.7717 - accuracy: 0.7419 - val_loss: 4.9200 - val_accuracy: 0.2051\n",
            "Epoch 95/200\n",
            "31/31 [==============================] - 0s 5ms/step - loss: 0.7820 - accuracy: 0.7677 - val_loss: 5.0236 - val_accuracy: 0.1795\n",
            "Epoch 96/200\n",
            "31/31 [==============================] - 0s 4ms/step - loss: 0.6997 - accuracy: 0.7742 - val_loss: 4.9852 - val_accuracy: 0.1538\n",
            "Epoch 97/200\n",
            "31/31 [==============================] - 0s 5ms/step - loss: 0.9673 - accuracy: 0.6774 - val_loss: 5.0542 - val_accuracy: 0.1282\n",
            "Epoch 98/200\n",
            "31/31 [==============================] - 0s 5ms/step - loss: 0.6502 - accuracy: 0.7677 - val_loss: 5.0937 - val_accuracy: 0.2051\n",
            "Epoch 99/200\n",
            "31/31 [==============================] - 0s 4ms/step - loss: 0.7205 - accuracy: 0.7742 - val_loss: 5.2867 - val_accuracy: 0.1538\n",
            "Epoch 100/200\n",
            "31/31 [==============================] - 0s 6ms/step - loss: 0.8831 - accuracy: 0.7548 - val_loss: 5.0375 - val_accuracy: 0.1538\n",
            "Epoch 101/200\n",
            "31/31 [==============================] - 0s 5ms/step - loss: 0.7624 - accuracy: 0.7677 - val_loss: 5.1924 - val_accuracy: 0.1538\n",
            "Epoch 102/200\n",
            "31/31 [==============================] - 0s 5ms/step - loss: 0.7198 - accuracy: 0.7871 - val_loss: 5.1573 - val_accuracy: 0.1795\n",
            "Epoch 103/200\n",
            "31/31 [==============================] - 0s 4ms/step - loss: 0.7204 - accuracy: 0.7548 - val_loss: 5.3646 - val_accuracy: 0.1795\n",
            "Epoch 104/200\n",
            "31/31 [==============================] - 0s 4ms/step - loss: 0.8407 - accuracy: 0.7226 - val_loss: 5.1402 - val_accuracy: 0.1795\n",
            "Epoch 105/200\n",
            "31/31 [==============================] - 0s 4ms/step - loss: 0.8267 - accuracy: 0.7161 - val_loss: 5.0061 - val_accuracy: 0.1795\n",
            "Epoch 106/200\n",
            "31/31 [==============================] - 0s 4ms/step - loss: 0.7934 - accuracy: 0.7613 - val_loss: 5.0656 - val_accuracy: 0.1538\n",
            "Epoch 107/200\n",
            "31/31 [==============================] - 0s 4ms/step - loss: 0.7243 - accuracy: 0.8129 - val_loss: 5.2778 - val_accuracy: 0.2051\n",
            "Epoch 108/200\n",
            "31/31 [==============================] - 0s 4ms/step - loss: 0.7152 - accuracy: 0.7742 - val_loss: 5.1303 - val_accuracy: 0.2051\n",
            "Epoch 109/200\n",
            "31/31 [==============================] - 0s 4ms/step - loss: 0.8066 - accuracy: 0.7419 - val_loss: 5.0193 - val_accuracy: 0.1538\n",
            "Epoch 110/200\n",
            "31/31 [==============================] - 0s 3ms/step - loss: 0.7816 - accuracy: 0.7355 - val_loss: 5.2050 - val_accuracy: 0.1795\n",
            "Epoch 111/200\n",
            "31/31 [==============================] - 0s 3ms/step - loss: 0.7002 - accuracy: 0.7613 - val_loss: 5.2991 - val_accuracy: 0.2564\n",
            "Epoch 112/200\n",
            "31/31 [==============================] - 0s 4ms/step - loss: 0.8388 - accuracy: 0.7355 - val_loss: 5.1417 - val_accuracy: 0.1795\n",
            "Epoch 113/200\n",
            "31/31 [==============================] - 0s 3ms/step - loss: 0.7748 - accuracy: 0.7097 - val_loss: 5.0143 - val_accuracy: 0.2051\n",
            "Epoch 114/200\n",
            "31/31 [==============================] - 0s 3ms/step - loss: 0.6905 - accuracy: 0.8000 - val_loss: 5.0101 - val_accuracy: 0.1538\n",
            "Epoch 115/200\n",
            "31/31 [==============================] - 0s 3ms/step - loss: 0.9149 - accuracy: 0.7484 - val_loss: 5.1505 - val_accuracy: 0.2564\n",
            "Epoch 116/200\n",
            "31/31 [==============================] - 0s 4ms/step - loss: 0.8233 - accuracy: 0.7806 - val_loss: 5.2672 - val_accuracy: 0.2821\n",
            "Epoch 117/200\n",
            "31/31 [==============================] - 0s 4ms/step - loss: 0.6064 - accuracy: 0.7935 - val_loss: 5.4463 - val_accuracy: 0.2308\n",
            "Epoch 118/200\n",
            "31/31 [==============================] - 0s 3ms/step - loss: 0.8623 - accuracy: 0.7484 - val_loss: 5.3090 - val_accuracy: 0.3077\n",
            "Epoch 119/200\n",
            "31/31 [==============================] - 0s 3ms/step - loss: 0.7086 - accuracy: 0.8000 - val_loss: 5.2619 - val_accuracy: 0.2308\n",
            "Epoch 120/200\n",
            "31/31 [==============================] - 0s 3ms/step - loss: 0.6102 - accuracy: 0.7871 - val_loss: 5.1044 - val_accuracy: 0.2564\n",
            "Epoch 121/200\n",
            "31/31 [==============================] - 0s 3ms/step - loss: 0.8722 - accuracy: 0.7548 - val_loss: 5.2525 - val_accuracy: 0.2308\n",
            "Epoch 122/200\n",
            "31/31 [==============================] - 0s 4ms/step - loss: 0.8447 - accuracy: 0.7097 - val_loss: 5.1712 - val_accuracy: 0.2308\n",
            "Epoch 123/200\n",
            "31/31 [==============================] - 0s 4ms/step - loss: 0.7533 - accuracy: 0.7677 - val_loss: 5.3200 - val_accuracy: 0.2308\n",
            "Epoch 124/200\n",
            "31/31 [==============================] - 0s 3ms/step - loss: 0.7955 - accuracy: 0.7871 - val_loss: 5.1428 - val_accuracy: 0.2051\n",
            "Epoch 125/200\n",
            "31/31 [==============================] - 0s 4ms/step - loss: 0.7405 - accuracy: 0.8129 - val_loss: 5.2890 - val_accuracy: 0.2051\n",
            "Epoch 126/200\n",
            "31/31 [==============================] - 0s 4ms/step - loss: 0.8881 - accuracy: 0.7742 - val_loss: 5.0839 - val_accuracy: 0.2051\n",
            "Epoch 127/200\n",
            "31/31 [==============================] - 0s 3ms/step - loss: 0.9241 - accuracy: 0.7290 - val_loss: 4.9009 - val_accuracy: 0.2051\n",
            "Epoch 128/200\n",
            "31/31 [==============================] - 0s 4ms/step - loss: 0.6052 - accuracy: 0.8194 - val_loss: 5.0800 - val_accuracy: 0.2051\n",
            "Epoch 129/200\n",
            "31/31 [==============================] - 0s 4ms/step - loss: 0.7194 - accuracy: 0.7935 - val_loss: 5.3144 - val_accuracy: 0.2821\n",
            "Epoch 130/200\n",
            "31/31 [==============================] - 0s 3ms/step - loss: 0.6331 - accuracy: 0.7871 - val_loss: 5.3206 - val_accuracy: 0.2308\n",
            "Epoch 131/200\n",
            "31/31 [==============================] - 0s 3ms/step - loss: 0.7140 - accuracy: 0.7871 - val_loss: 5.2630 - val_accuracy: 0.1795\n",
            "Epoch 132/200\n",
            "31/31 [==============================] - 0s 3ms/step - loss: 0.6825 - accuracy: 0.7742 - val_loss: 5.1508 - val_accuracy: 0.2051\n",
            "Epoch 133/200\n",
            "31/31 [==============================] - 0s 4ms/step - loss: 0.7444 - accuracy: 0.7871 - val_loss: 4.9204 - val_accuracy: 0.2564\n",
            "Epoch 134/200\n",
            "31/31 [==============================] - 0s 3ms/step - loss: 0.6052 - accuracy: 0.7935 - val_loss: 4.9906 - val_accuracy: 0.3077\n",
            "Epoch 135/200\n",
            "31/31 [==============================] - 0s 4ms/step - loss: 0.6048 - accuracy: 0.7806 - val_loss: 4.9807 - val_accuracy: 0.3333\n",
            "Epoch 136/200\n",
            "31/31 [==============================] - 0s 3ms/step - loss: 0.7651 - accuracy: 0.7742 - val_loss: 5.0951 - val_accuracy: 0.2821\n",
            "Epoch 137/200\n",
            "31/31 [==============================] - 0s 4ms/step - loss: 0.6611 - accuracy: 0.8065 - val_loss: 4.8833 - val_accuracy: 0.2564\n",
            "Epoch 138/200\n",
            "31/31 [==============================] - 0s 3ms/step - loss: 0.6912 - accuracy: 0.7613 - val_loss: 5.0136 - val_accuracy: 0.2308\n",
            "Epoch 139/200\n",
            "31/31 [==============================] - 0s 3ms/step - loss: 0.6029 - accuracy: 0.8258 - val_loss: 5.1836 - val_accuracy: 0.2308\n",
            "Epoch 140/200\n",
            "31/31 [==============================] - 0s 3ms/step - loss: 0.6426 - accuracy: 0.8000 - val_loss: 5.1060 - val_accuracy: 0.2821\n",
            "Epoch 141/200\n",
            "31/31 [==============================] - 0s 3ms/step - loss: 0.7251 - accuracy: 0.8129 - val_loss: 5.3336 - val_accuracy: 0.2821\n",
            "Epoch 142/200\n",
            "31/31 [==============================] - 0s 4ms/step - loss: 0.6498 - accuracy: 0.8000 - val_loss: 5.1277 - val_accuracy: 0.3077\n",
            "Epoch 143/200\n",
            "31/31 [==============================] - 0s 5ms/step - loss: 0.7201 - accuracy: 0.7742 - val_loss: 5.2042 - val_accuracy: 0.3077\n",
            "Epoch 144/200\n",
            "31/31 [==============================] - 0s 3ms/step - loss: 0.7259 - accuracy: 0.7677 - val_loss: 5.0452 - val_accuracy: 0.2564\n",
            "Epoch 145/200\n",
            "31/31 [==============================] - 0s 4ms/step - loss: 0.5904 - accuracy: 0.8323 - val_loss: 5.0236 - val_accuracy: 0.2821\n",
            "Epoch 146/200\n",
            "31/31 [==============================] - 0s 3ms/step - loss: 0.5420 - accuracy: 0.8387 - val_loss: 5.0283 - val_accuracy: 0.2308\n",
            "Epoch 147/200\n",
            "31/31 [==============================] - 0s 4ms/step - loss: 0.7390 - accuracy: 0.7742 - val_loss: 5.2844 - val_accuracy: 0.2308\n",
            "Epoch 148/200\n",
            "31/31 [==============================] - 0s 3ms/step - loss: 0.7421 - accuracy: 0.7613 - val_loss: 5.4021 - val_accuracy: 0.2308\n",
            "Epoch 149/200\n",
            "31/31 [==============================] - 0s 3ms/step - loss: 0.6541 - accuracy: 0.7871 - val_loss: 5.4520 - val_accuracy: 0.2308\n",
            "Epoch 150/200\n",
            "31/31 [==============================] - 0s 4ms/step - loss: 0.6140 - accuracy: 0.7742 - val_loss: 5.4179 - val_accuracy: 0.2564\n",
            "Epoch 151/200\n",
            "31/31 [==============================] - 0s 4ms/step - loss: 0.6868 - accuracy: 0.7935 - val_loss: 5.3133 - val_accuracy: 0.2564\n",
            "Epoch 152/200\n",
            "31/31 [==============================] - 0s 4ms/step - loss: 0.6144 - accuracy: 0.8065 - val_loss: 5.3400 - val_accuracy: 0.3590\n",
            "Epoch 153/200\n",
            "31/31 [==============================] - 0s 4ms/step - loss: 0.6382 - accuracy: 0.8065 - val_loss: 5.4750 - val_accuracy: 0.3077\n",
            "Epoch 154/200\n",
            "31/31 [==============================] - 0s 4ms/step - loss: 0.5336 - accuracy: 0.8194 - val_loss: 5.5637 - val_accuracy: 0.3077\n",
            "Epoch 155/200\n",
            "31/31 [==============================] - 0s 3ms/step - loss: 0.5731 - accuracy: 0.8129 - val_loss: 5.8571 - val_accuracy: 0.2308\n",
            "Epoch 156/200\n",
            "31/31 [==============================] - 0s 4ms/step - loss: 0.5926 - accuracy: 0.8065 - val_loss: 5.9902 - val_accuracy: 0.2308\n",
            "Epoch 157/200\n",
            "31/31 [==============================] - 0s 3ms/step - loss: 0.8744 - accuracy: 0.6968 - val_loss: 5.7724 - val_accuracy: 0.2308\n",
            "Epoch 158/200\n",
            "31/31 [==============================] - 0s 3ms/step - loss: 0.6473 - accuracy: 0.7677 - val_loss: 5.7452 - val_accuracy: 0.2564\n",
            "Epoch 159/200\n",
            "31/31 [==============================] - 0s 4ms/step - loss: 0.7545 - accuracy: 0.7742 - val_loss: 5.6762 - val_accuracy: 0.2821\n",
            "Epoch 160/200\n",
            "31/31 [==============================] - 0s 4ms/step - loss: 0.6996 - accuracy: 0.7484 - val_loss: 5.5805 - val_accuracy: 0.2564\n",
            "Epoch 161/200\n",
            "31/31 [==============================] - 0s 3ms/step - loss: 0.7335 - accuracy: 0.7935 - val_loss: 5.7317 - val_accuracy: 0.2308\n",
            "Epoch 162/200\n",
            "31/31 [==============================] - 0s 3ms/step - loss: 0.5051 - accuracy: 0.8452 - val_loss: 5.7590 - val_accuracy: 0.2308\n",
            "Epoch 163/200\n",
            "31/31 [==============================] - 0s 3ms/step - loss: 0.8021 - accuracy: 0.7677 - val_loss: 5.4781 - val_accuracy: 0.2051\n",
            "Epoch 164/200\n",
            "31/31 [==============================] - 0s 3ms/step - loss: 0.6553 - accuracy: 0.8065 - val_loss: 5.3105 - val_accuracy: 0.2308\n",
            "Epoch 165/200\n",
            "31/31 [==============================] - 0s 4ms/step - loss: 0.6456 - accuracy: 0.7935 - val_loss: 5.3432 - val_accuracy: 0.2308\n",
            "Epoch 166/200\n",
            "31/31 [==============================] - 0s 4ms/step - loss: 0.5288 - accuracy: 0.8581 - val_loss: 5.8326 - val_accuracy: 0.2308\n",
            "Epoch 167/200\n",
            "31/31 [==============================] - 0s 4ms/step - loss: 0.6211 - accuracy: 0.8065 - val_loss: 5.5726 - val_accuracy: 0.2564\n",
            "Epoch 168/200\n",
            "31/31 [==============================] - 0s 4ms/step - loss: 0.7239 - accuracy: 0.7742 - val_loss: 5.5205 - val_accuracy: 0.2051\n",
            "Epoch 169/200\n",
            "31/31 [==============================] - 0s 4ms/step - loss: 0.6622 - accuracy: 0.7677 - val_loss: 5.4425 - val_accuracy: 0.3077\n",
            "Epoch 170/200\n",
            "31/31 [==============================] - 0s 3ms/step - loss: 0.7366 - accuracy: 0.7806 - val_loss: 5.5171 - val_accuracy: 0.2821\n",
            "Epoch 171/200\n",
            "31/31 [==============================] - 0s 4ms/step - loss: 0.6031 - accuracy: 0.8194 - val_loss: 5.5744 - val_accuracy: 0.2308\n",
            "Epoch 172/200\n",
            "31/31 [==============================] - 0s 3ms/step - loss: 0.6386 - accuracy: 0.8065 - val_loss: 5.6510 - val_accuracy: 0.2051\n",
            "Epoch 173/200\n",
            "31/31 [==============================] - 0s 3ms/step - loss: 0.3872 - accuracy: 0.8839 - val_loss: 5.7027 - val_accuracy: 0.2308\n",
            "Epoch 174/200\n",
            "31/31 [==============================] - 0s 4ms/step - loss: 0.5850 - accuracy: 0.7935 - val_loss: 5.8090 - val_accuracy: 0.2051\n",
            "Epoch 175/200\n",
            "31/31 [==============================] - 0s 3ms/step - loss: 0.5572 - accuracy: 0.8516 - val_loss: 5.7502 - val_accuracy: 0.1795\n",
            "Epoch 176/200\n",
            "31/31 [==============================] - 0s 3ms/step - loss: 0.6270 - accuracy: 0.8000 - val_loss: 5.6207 - val_accuracy: 0.2308\n",
            "Epoch 177/200\n",
            "31/31 [==============================] - 0s 4ms/step - loss: 0.5074 - accuracy: 0.8452 - val_loss: 5.4880 - val_accuracy: 0.2564\n",
            "Epoch 178/200\n",
            "31/31 [==============================] - 0s 4ms/step - loss: 0.7042 - accuracy: 0.7548 - val_loss: 5.5689 - val_accuracy: 0.2308\n",
            "Epoch 179/200\n",
            "31/31 [==============================] - 0s 4ms/step - loss: 0.5904 - accuracy: 0.8452 - val_loss: 5.7072 - val_accuracy: 0.2821\n",
            "Epoch 180/200\n",
            "31/31 [==============================] - 0s 3ms/step - loss: 0.8363 - accuracy: 0.7484 - val_loss: 5.4005 - val_accuracy: 0.3077\n",
            "Epoch 181/200\n",
            "31/31 [==============================] - 0s 3ms/step - loss: 0.4741 - accuracy: 0.8516 - val_loss: 5.4468 - val_accuracy: 0.2564\n",
            "Epoch 182/200\n",
            "31/31 [==============================] - 0s 3ms/step - loss: 0.5604 - accuracy: 0.8194 - val_loss: 5.8551 - val_accuracy: 0.2564\n",
            "Epoch 183/200\n",
            "31/31 [==============================] - 0s 4ms/step - loss: 0.6992 - accuracy: 0.7871 - val_loss: 5.6412 - val_accuracy: 0.2564\n",
            "Epoch 184/200\n",
            "31/31 [==============================] - 0s 4ms/step - loss: 0.5071 - accuracy: 0.8452 - val_loss: 5.4635 - val_accuracy: 0.3077\n",
            "Epoch 185/200\n",
            "31/31 [==============================] - 0s 3ms/step - loss: 0.6288 - accuracy: 0.8194 - val_loss: 5.7330 - val_accuracy: 0.2051\n",
            "Epoch 186/200\n",
            "31/31 [==============================] - 0s 4ms/step - loss: 0.6873 - accuracy: 0.8065 - val_loss: 5.5518 - val_accuracy: 0.2051\n",
            "Epoch 187/200\n",
            "31/31 [==============================] - 0s 3ms/step - loss: 0.4862 - accuracy: 0.8258 - val_loss: 5.6772 - val_accuracy: 0.2564\n",
            "Epoch 188/200\n",
            "31/31 [==============================] - 0s 4ms/step - loss: 0.5506 - accuracy: 0.8194 - val_loss: 5.6772 - val_accuracy: 0.2564\n",
            "Epoch 189/200\n",
            "31/31 [==============================] - 0s 5ms/step - loss: 0.4904 - accuracy: 0.8581 - val_loss: 5.6808 - val_accuracy: 0.2821\n",
            "Epoch 190/200\n",
            "31/31 [==============================] - 0s 4ms/step - loss: 0.4989 - accuracy: 0.8581 - val_loss: 5.7690 - val_accuracy: 0.2564\n",
            "Epoch 191/200\n",
            "31/31 [==============================] - 0s 5ms/step - loss: 0.4914 - accuracy: 0.8452 - val_loss: 5.9229 - val_accuracy: 0.2564\n",
            "Epoch 192/200\n",
            "31/31 [==============================] - 0s 5ms/step - loss: 0.7469 - accuracy: 0.7742 - val_loss: 5.7888 - val_accuracy: 0.2308\n",
            "Epoch 193/200\n",
            "31/31 [==============================] - 0s 4ms/step - loss: 0.7157 - accuracy: 0.7871 - val_loss: 5.6777 - val_accuracy: 0.2308\n",
            "Epoch 194/200\n",
            "31/31 [==============================] - 0s 5ms/step - loss: 0.5395 - accuracy: 0.8452 - val_loss: 5.7053 - val_accuracy: 0.2308\n",
            "Epoch 195/200\n",
            "31/31 [==============================] - 0s 5ms/step - loss: 0.5788 - accuracy: 0.8065 - val_loss: 5.8625 - val_accuracy: 0.1795\n",
            "Epoch 196/200\n",
            "31/31 [==============================] - 0s 4ms/step - loss: 0.5184 - accuracy: 0.8387 - val_loss: 5.7550 - val_accuracy: 0.2821\n",
            "Epoch 197/200\n",
            "31/31 [==============================] - 0s 5ms/step - loss: 0.5623 - accuracy: 0.7935 - val_loss: 5.6009 - val_accuracy: 0.2564\n",
            "Epoch 198/200\n",
            "31/31 [==============================] - 0s 5ms/step - loss: 0.6172 - accuracy: 0.8323 - val_loss: 5.3892 - val_accuracy: 0.3077\n",
            "Epoch 199/200\n",
            "31/31 [==============================] - 0s 5ms/step - loss: 0.6042 - accuracy: 0.8258 - val_loss: 5.2190 - val_accuracy: 0.2564\n",
            "Epoch 200/200\n",
            "31/31 [==============================] - 0s 4ms/step - loss: 0.5945 - accuracy: 0.8129 - val_loss: 5.2991 - val_accuracy: 0.2564\n",
            "model created\n"
          ]
        },
        {
          "output_type": "stream",
          "name": "stderr",
          "text": [
            "/usr/local/lib/python3.10/dist-packages/keras/src/engine/training.py:3000: UserWarning: You are saving your model as an HDF5 file via `model.save()`. This file format is considered legacy. We recommend using instead the native Keras format, e.g. `model.save('my_model.keras')`.\n",
            "  saving_api.save_model(\n"
          ]
        }
      ]
    },
    {
      "cell_type": "markdown",
      "metadata": {
        "id": "H8cXoxVderGk"
      },
      "source": [
        "#predicting the response"
      ]
    },
    {
      "cell_type": "code",
      "metadata": {
        "id": "ksXBsBcdXrx6"
      },
      "source": [
        "#loading words and classes files\n",
        "\n",
        "words=pickle.load(open(\"words.pkl\",\"rb\"))\n",
        "classes=pickle.load(open(\"classes.pkl\",\"rb\"))"
      ],
      "execution_count": 16,
      "outputs": []
    },
    {
      "cell_type": "code",
      "metadata": {
        "id": "ur29JPtifeUp"
      },
      "source": [
        "def clean_up_sentence(sentence):\n",
        "  #toknize sentence\n",
        "  sentence_words=nltk.word_tokenize(sentence)\n",
        "  #lemmtaized and lower each word\n",
        "  sentence_words=[lemmatizer.lemmatize(word.lower()) for word in sentence_words]\n",
        "\n",
        "  return sentence_words\n",
        "\n",
        "def bow(sentence,words,show_details=False):\n",
        "  #cleaning up sentence\n",
        "  sentence_words=clean_up_sentence(sentence)\n",
        "\n",
        "  bag=[0]*len(words)\n",
        "\n",
        "  for s in sentence_words:\n",
        "    for i,w in enumerate(words):\n",
        "      if w==s:\n",
        "        # bag equal one if current word is in the vocabulary position\n",
        "        bag[i]=1\n",
        "\n",
        "        if show_details==True:\n",
        "          print('Found in %s',w)\n",
        "\n",
        "  return np.array(bag)"
      ],
      "execution_count": 17,
      "outputs": []
    },
    {
      "cell_type": "code",
      "metadata": {
        "id": "eykH9gjLBWKF"
      },
      "source": [
        "def predict_class(sentence,model):\n",
        "  #filter prediction that below threshold\n",
        "  p=bow(sentence,words,show_details=False)\n",
        "  res=model.predict(np.array([p]))[0]\n",
        "\n",
        "  ERROR_THRESHOLD=0.25\n",
        "\n",
        "  results=[[i,r] for i,r in enumerate(res) if r>ERROR_THRESHOLD]\n",
        "\n",
        "  #sort by strong probability\n",
        "  results.sort(key=lambda x:x[1],reverse=True)\n",
        "\n",
        "  return_list=[]\n",
        "  for r in results:\n",
        "      return_list.append({\"intent\":classes[r[0]],\"probability\":str(r[1])})\n",
        "\n",
        "\n",
        "  return return_list\n",
        "\n",
        "\n",
        "\n",
        "\n"
      ],
      "execution_count": 18,
      "outputs": []
    },
    {
      "cell_type": "markdown",
      "metadata": {
        "id": "MRJ9_a7MK5pV"
      },
      "source": [
        "# Running chatbot"
      ]
    },
    {
      "cell_type": "code",
      "metadata": {
        "id": "Ugtq7RKgK5Ju"
      },
      "source": [
        "def getResponse(ints,intents_json):\n",
        "  tag=ints[0]['intent']\n",
        "  list_intents=intents_json['intents']\n",
        "\n",
        "  for i in list_intents:\n",
        "\n",
        "    if (tag==i['tag']):\n",
        "      result=random.choice(i['responses'])\n",
        "      break\n",
        "\n",
        "  return result\n",
        "\n",
        "\n",
        "def chatbot_response(msg):\n",
        "  ints=predict_class(msg,model)\n",
        "  res=getResponse(ints,intents)\n",
        "\n",
        "  return res\n",
        "\n"
      ],
      "execution_count": 19,
      "outputs": []
    },
    {
      "cell_type": "code",
      "metadata": {
        "id": "gd-R1brckBeE"
      },
      "source": [
        "def run():\n",
        "  print(colored(\"WELCOME TO ISLAMIC CHATBOT\", 'red'))\n",
        "  print(\"\")\n",
        "  while(1):\n",
        "     request=input(\"\")\n",
        "     response=chatbot_response(request)\n",
        "     print(colored(response, 'cyan'))\n",
        "     if request==\"goodbye\"or request== \"Bye\" or request==\"See you later\" or request== \"Goodbye\" or request==\"Nice chatting to you, bye\" or request==\"Till next time\":\n",
        "           break\n",
        "\n",
        "\n",
        "\n",
        "\n",
        "\n",
        "\n",
        "\n"
      ],
      "execution_count": 20,
      "outputs": []
    },
    {
      "cell_type": "code",
      "metadata": {
        "id": "wUWB59pZQcY_",
        "outputId": "edce200c-a0c5-4a94-df23-6a2a4cd12de5",
        "colab": {
          "base_uri": "https://localhost:8080/"
        }
      },
      "source": [
        "run()"
      ],
      "execution_count": null,
      "outputs": [
        {
          "output_type": "stream",
          "name": "stdout",
          "text": [
            "WELCOME TO ISLAMIC CHATBOT\n",
            "\n",
            "What is interest\n",
            "1/1 [==============================] - 0s 138ms/step\n",
            "In Islam, the concept of interest riba is considered Haram prohibited based on the following Quranic verses:Those who consume interest cannot stand on the Day of Resurrection except as one stands who is being beaten by Satan into insanity. That is because they say, Trade is just like interest. But Allah has permitted trade and has forbidden interest. (Quran 2:275)\n",
            "what is Islam\n",
            "1/1 [==============================] - 0s 30ms/step\n",
            "Hawala is a traditional informal remittance system used in Islamic banking and finance. It involves transferring money or value between individuals or entities through a network of intermediaries without physically moving the funds across borders. The system relies on trust and the reputation of the intermediaries, making it a common method for remittances, trade settlements, and cross-border transactions within the Islamic banking context.\n"
          ]
        }
      ]
    },
    {
      "cell_type": "code",
      "metadata": {
        "id": "7WKLrFA9ai6-"
      },
      "source": [],
      "execution_count": null,
      "outputs": []
    }
  ]
}